{
 "cells": [
  {
   "cell_type": "markdown",
   "metadata": {},
   "source": [
    "# TP 0 - Introduction"
   ]
  },
  {
   "cell_type": "markdown",
   "metadata": {
    "ExecuteTime": {
     "end_time": "2016-12-18T17:44:30.756283",
     "start_time": "2016-12-18T16:44:30.751Z"
    }
   },
   "source": [
    "## Exercices 1 - 6\n",
    "\n",
    "Ok."
   ]
  },
  {
   "cell_type": "markdown",
   "metadata": {},
   "source": [
    "## Exercice 7"
   ]
  },
  {
   "cell_type": "code",
   "execution_count": 94,
   "metadata": {
    "ExecuteTime": {
     "end_time": "2016-12-18T17:35:56.169335",
     "start_time": "2016-12-18T16:35:55.908Z"
    },
    "collapsed": false
   },
   "outputs": [
    {
     "data": {
      "text/plain": [
       "5×5 Array{Float64,2}:\n",
       " 1.0  2.0  3.0  0.0  0.0\n",
       " 2.0  3.0  1.0  0.0  0.0\n",
       " 3.0  1.0  2.0  0.0  0.0\n",
       " 0.0  0.0  0.0  1.0  0.0\n",
       " 0.0  0.0  0.0  0.0  1.0"
      ]
     },
     "execution_count": 94,
     "metadata": {},
     "output_type": "execute_result"
    }
   ],
   "source": [
    "C=[A zeros(3,2); zeros(2,3) eye(2)]"
   ]
  },
  {
   "cell_type": "code",
   "execution_count": 106,
   "metadata": {
    "ExecuteTime": {
     "end_time": "2016-12-18T17:39:54.754333",
     "start_time": "2016-12-18T16:39:54.748Z"
    },
    "collapsed": false
   },
   "outputs": [
    {
     "data": {
      "text/plain": [
       "3×19 Array{Int64,2}:\n",
       " 1  1  1  1  1  1  1  1  1  1  1  1  1  1  1  1  1  1  1\n",
       " 3  3  3  3  3  3  3  3  3  3  3  3  3  3  3  3  3  3  3\n",
       " 6  6  6  6  6  6  6  6  6  6  6  6  6  6  6  6  6  6  6"
      ]
     },
     "execution_count": 106,
     "metadata": {},
     "output_type": "execute_result"
    }
   ],
   "source": [
    "repeat([1; 3; 6], inner=[1, 19])"
   ]
  },
  {
   "cell_type": "code",
   "execution_count": 153,
   "metadata": {
    "ExecuteTime": {
     "end_time": "2016-12-18T18:03:47.326041",
     "start_time": "2016-12-18T17:03:47.321Z"
    },
    "collapsed": false
   },
   "outputs": [
    {
     "data": {
      "text/plain": [
       "3×19 Array{Float64,2}:\n",
       " 1.0  1.0  1.0  1.0  1.0  1.0  1.0  1.0  …  1.0  1.0  1.0  1.0  1.0  1.0  1.0\n",
       " 3.0  3.0  3.0  3.0  3.0  3.0  3.0  3.0     3.0  3.0  3.0  3.0  3.0  3.0  3.0\n",
       " 6.0  6.0  6.0  6.0  6.0  6.0  6.0  6.0     6.0  6.0  6.0  6.0  6.0  6.0  6.0"
      ]
     },
     "execution_count": 153,
     "metadata": {},
     "output_type": "execute_result"
    }
   ],
   "source": [
    "[1, 3, 6] * ones(1, 19)"
   ]
  },
  {
   "cell_type": "markdown",
   "metadata": {
    "ExecuteTime": {
     "end_time": "2016-12-18T17:44:45.391971",
     "start_time": "2016-12-18T16:44:45.389Z"
    }
   },
   "source": [
    "## Exercice 8"
   ]
  },
  {
   "cell_type": "code",
   "execution_count": 122,
   "metadata": {
    "ExecuteTime": {
     "end_time": "2016-12-18T17:46:12.745483",
     "start_time": "2016-12-18T16:46:12.685Z"
    },
    "collapsed": false
   },
   "outputs": [
    {
     "data": {
      "text/plain": [
       "12×12 Array{Int64,2}:\n",
       "   1    2    3    4    5    6    7    8    9   10   11   12\n",
       "  13   14   15   16   17   18   19   20   21   22   23   24\n",
       "  25   26   27   28   29   30   31   32   33   34   35   36\n",
       "  37   38   39   40   41   42   43   44   45   46   47   48\n",
       "  49   50   51   52   53   54   55   56   57   58   59   60\n",
       "  61   62   63   64   65   66   67   68   69   70   71   72\n",
       "  73   74   75   76   77   78   79   80   81   82   83   84\n",
       "  85   86   87   88   89   90   91   92   93   94   95   96\n",
       "  97   98   99  100  101  102  103  104  105  106  107  108\n",
       " 109  110  111  112  113  114  115  116  117  118  119  120\n",
       " 121  122  123  124  125  126  127  128  129  130  131  132\n",
       " 133  134  135  136  137  138  139  140  141  142  143  144"
      ]
     },
     "execution_count": 122,
     "metadata": {},
     "output_type": "execute_result"
    }
   ],
   "source": [
    "M = reshape(1:144, 12, 12)'"
   ]
  },
  {
   "cell_type": "code",
   "execution_count": 123,
   "metadata": {
    "ExecuteTime": {
     "end_time": "2016-12-18T17:46:50.444135",
     "start_time": "2016-12-18T16:46:50.397Z"
    },
    "collapsed": false
   },
   "outputs": [
    {
     "data": {
      "text/plain": [
       "6×6 Array{Int64,2}:\n",
       "  7   8   9  10  11  12\n",
       " 19  20  21  22  23  24\n",
       " 31  32  33  34  35  36\n",
       " 43  44  45  46  47  48\n",
       " 55  56  57  58  59  60\n",
       " 67  68  69  70  71  72"
      ]
     },
     "execution_count": 123,
     "metadata": {},
     "output_type": "execute_result"
    }
   ],
   "source": [
    "M[1:6, 7:12]"
   ]
  },
  {
   "cell_type": "code",
   "execution_count": 125,
   "metadata": {
    "ExecuteTime": {
     "end_time": "2016-12-18T17:47:54.349365",
     "start_time": "2016-12-18T16:47:54.345Z"
    },
    "collapsed": false
   },
   "outputs": [
    {
     "data": {
      "text/plain": [
       "6×6 Array{Int64,2}:\n",
       "   1    2    5    6    9   10\n",
       "  13   14   17   18   21   22\n",
       "  49   50   53   54   57   58\n",
       "  61   62   65   66   69   70\n",
       "  97   98  101  102  105  106\n",
       " 109  110  113  114  117  118"
      ]
     },
     "execution_count": 125,
     "metadata": {},
     "output_type": "execute_result"
    }
   ],
   "source": [
    "M[[1, 2, 5, 6, 9, 10], [1, 2, 5, 6, 9, 10]]"
   ]
  },
  {
   "cell_type": "code",
   "execution_count": 162,
   "metadata": {
    "ExecuteTime": {
     "end_time": "2016-12-18T18:11:20.301259",
     "start_time": "2016-12-18T17:11:20.057Z"
    },
    "collapsed": false
   },
   "outputs": [
    {
     "data": {
      "text/plain": [
       "12×6 Array{Int64,2}:\n",
       "   1    3    5    7    9   11\n",
       "  14   16   18   20   22   24\n",
       "  25   27   29   31   33   35\n",
       "  38   40   42   44   46   48\n",
       "  49   51   53   55   57   59\n",
       "  62   64   66   68   70   72\n",
       "  73   75   77   79   81   83\n",
       "  86   88   90   92   94   96\n",
       "  97   99  101  103  105  107\n",
       " 110  112  114  116  118  120\n",
       " 121  123  125  127  129  131\n",
       " 134  136  138  140  142  144"
      ]
     },
     "execution_count": 162,
     "metadata": {},
     "output_type": "execute_result"
    }
   ],
   "source": [
    "reshape([getindex(M, ij...) for ij in\n",
    "         [[i, j] for i in 1:12 for j in 1:12 if (i+j) % 2 == 0]],\n",
    "        6, 12)'"
   ]
  }
 ],
 "metadata": {
  "kernelspec": {
   "display_name": "Julia 0.5.0",
   "language": "julia",
   "name": "julia-0.5"
  },
  "language_info": {
   "file_extension": ".jl",
   "mimetype": "application/julia",
   "name": "julia",
   "version": "0.5.0"
  },
  "toc": {
   "toc_cell": false,
   "toc_number_sections": false,
   "toc_threshold": 6,
   "toc_window_display": false
  }
 },
 "nbformat": 4,
 "nbformat_minor": 2
}
